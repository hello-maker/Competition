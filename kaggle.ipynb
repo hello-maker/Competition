{
 "cells": [
  {
   "cell_type": "code",
   "execution_count": 1,
   "metadata": {
    "_cell_guid": "b1076dfc-b9ad-4769-8c92-a6c4dae69d19",
    "_uuid": "8f2839f25d086af736a60e9eeb907d3b93b6e0e5",
    "execution": {
     "iopub.execute_input": "2020-11-30T14:20:12.910324Z",
     "iopub.status.busy": "2020-11-30T14:20:12.909166Z",
     "iopub.status.idle": "2020-11-30T14:20:12.915986Z",
     "shell.execute_reply": "2020-11-30T14:20:12.915150Z"
    },
    "papermill": {
     "duration": 0.031956,
     "end_time": "2020-11-30T14:20:12.916162",
     "exception": false,
     "start_time": "2020-11-30T14:20:12.884206",
     "status": "completed"
    },
    "tags": []
   },
   "outputs": [
    {
     "name": "stdout",
     "output_type": "stream",
     "text": [
      "/kaggle/input/lish-moa/sample_submission.csv\n",
      "/kaggle/input/lish-moa/train_drug.csv\n",
      "/kaggle/input/lish-moa/train_targets_scored.csv\n",
      "/kaggle/input/lish-moa/train_targets_nonscored.csv\n",
      "/kaggle/input/lish-moa/train_features.csv\n",
      "/kaggle/input/lish-moa/test_features.csv\n"
     ]
    }
   ],
   "source": [
    "# This Python 3 environment comes with many helpful analytics libraries installed\n",
    "# It is defined by the kaggle/python Docker image: https://github.com/kaggle/docker-python\n",
    "# For example, here's several helpful packages to load\n",
    "\n",
    "import numpy as np # linear algebra\n",
    "import pandas as pd # data processing, CSV file I/O (e.g. pd.read_csv)\n",
    "\n",
    "# Input data files are available in the read-only \"../input/\" directory\n",
    "# For example, running this (by clicking run or pressing Shift+Enter) will list all files under the input directory\n",
    "\n",
    "import os\n",
    "for dirname, _, filenames in os.walk('/kaggle/input'):\n",
    "    for filename in filenames:\n",
    "        print(os.path.join(dirname, filename))\n",
    "\n",
    "# You can write up to 20GB to the current directory (/kaggle/working/) that gets preserved as output when you create a version using \"Save & Run All\" \n",
    "# You can also write temporary files to /kaggle/temp/, but they won't be saved outside of the current session"
   ]
  },
  {
   "cell_type": "code",
   "execution_count": 2,
   "metadata": {
    "_cell_guid": "79c7e3d0-c299-4dcb-8224-4455121ee9b0",
    "_uuid": "d629ff2d2480ee46fbb7e2d37f6b5fab8052498a",
    "execution": {
     "iopub.execute_input": "2020-11-30T14:20:12.961011Z",
     "iopub.status.busy": "2020-11-30T14:20:12.960163Z",
     "iopub.status.idle": "2020-11-30T14:20:18.860567Z",
     "shell.execute_reply": "2020-11-30T14:20:18.859591Z"
    },
    "papermill": {
     "duration": 5.925171,
     "end_time": "2020-11-30T14:20:18.860706",
     "exception": false,
     "start_time": "2020-11-30T14:20:12.935535",
     "status": "completed"
    },
    "tags": []
   },
   "outputs": [],
   "source": [
    "# Preliminaries\n",
    "import pandas as pd\n",
    "import numpy as np\n",
    "\n",
    "from xgboost import XGBClassifier\n",
    "from sklearn.model_selection import KFold\n",
    "from category_encoders import CountEncoder\n",
    "from sklearn.pipeline import Pipeline\n",
    "from sklearn.metrics import log_loss\n",
    "\n",
    "import matplotlib.pyplot as plt\n",
    "\n",
    "from sklearn.multioutput import MultiOutputClassifier\n",
    "\n",
    "import os\n",
    "import warnings\n",
    "warnings.filterwarnings('ignore')"
   ]
  },
  {
   "cell_type": "code",
   "execution_count": 3,
   "metadata": {
    "execution": {
     "iopub.execute_input": "2020-11-30T14:20:18.913468Z",
     "iopub.status.busy": "2020-11-30T14:20:18.911379Z",
     "iopub.status.idle": "2020-11-30T14:20:18.914275Z",
     "shell.execute_reply": "2020-11-30T14:20:18.914807Z"
    },
    "papermill": {
     "duration": 0.035176,
     "end_time": "2020-11-30T14:20:18.914943",
     "exception": false,
     "start_time": "2020-11-30T14:20:18.879767",
     "status": "completed"
    },
    "tags": []
   },
   "outputs": [],
   "source": [
    "SEED = 42\n",
    "NFOLDS = 5\n",
    "DATA_DIR = '/kaggle/input/lish-moa/'\n",
    "np.random.seed(SEED)"
   ]
  },
  {
   "cell_type": "code",
   "execution_count": 4,
   "metadata": {
    "execution": {
     "iopub.execute_input": "2020-11-30T14:20:18.959403Z",
     "iopub.status.busy": "2020-11-30T14:20:18.957257Z",
     "iopub.status.idle": "2020-11-30T14:20:26.010613Z",
     "shell.execute_reply": "2020-11-30T14:20:26.009510Z"
    },
    "papermill": {
     "duration": 7.078164,
     "end_time": "2020-11-30T14:20:26.010742",
     "exception": false,
     "start_time": "2020-11-30T14:20:18.932578",
     "status": "completed"
    },
    "tags": []
   },
   "outputs": [],
   "source": [
    "train = pd.read_csv(DATA_DIR + 'train_features.csv')\n",
    "targets = pd.read_csv(DATA_DIR + 'train_targets_scored.csv')\n",
    "\n",
    "test = pd.read_csv(DATA_DIR + 'test_features.csv')\n",
    "sub = pd.read_csv(DATA_DIR + 'sample_submission.csv')"
   ]
  },
  {
   "cell_type": "code",
   "execution_count": 5,
   "metadata": {
    "execution": {
     "iopub.execute_input": "2020-11-30T14:20:26.207864Z",
     "iopub.status.busy": "2020-11-30T14:20:26.206769Z",
     "iopub.status.idle": "2020-11-30T14:20:27.727449Z",
     "shell.execute_reply": "2020-11-30T14:20:27.726789Z"
    },
    "papermill": {
     "duration": 1.698461,
     "end_time": "2020-11-30T14:20:27.727585",
     "exception": false,
     "start_time": "2020-11-30T14:20:26.029124",
     "status": "completed"
    },
    "tags": []
   },
   "outputs": [],
   "source": [
    "X = train.iloc[:,1:].to_numpy()\n",
    "X_test = test.iloc[:,1:].to_numpy()\n",
    "y = targets.iloc[:,1:].to_numpy() "
   ]
  },
  {
   "cell_type": "code",
   "execution_count": 6,
   "metadata": {
    "execution": {
     "iopub.execute_input": "2020-11-30T14:20:27.771241Z",
     "iopub.status.busy": "2020-11-30T14:20:27.770419Z",
     "iopub.status.idle": "2020-11-30T14:20:27.773671Z",
     "shell.execute_reply": "2020-11-30T14:20:27.774227Z"
    },
    "papermill": {
     "duration": 0.028247,
     "end_time": "2020-11-30T14:20:27.774373",
     "exception": false,
     "start_time": "2020-11-30T14:20:27.746126",
     "status": "completed"
    },
    "tags": []
   },
   "outputs": [],
   "source": [
    "classifier = MultiOutputClassifier(XGBClassifier(tree_method='gpu_hist'))\n",
    "\n",
    "clf = Pipeline([('encode', CountEncoder(cols=[0, 2])),\n",
    "                ('classify', classifier)\n",
    "               ])"
   ]
  },
  {
   "cell_type": "code",
   "execution_count": 7,
   "metadata": {
    "execution": {
     "iopub.execute_input": "2020-11-30T14:20:27.820902Z",
     "iopub.status.busy": "2020-11-30T14:20:27.818834Z",
     "iopub.status.idle": "2020-11-30T14:20:27.821691Z",
     "shell.execute_reply": "2020-11-30T14:20:27.822282Z"
    },
    "papermill": {
     "duration": 0.029405,
     "end_time": "2020-11-30T14:20:27.822427",
     "exception": false,
     "start_time": "2020-11-30T14:20:27.793022",
     "status": "completed"
    },
    "tags": []
   },
   "outputs": [],
   "source": [
    "params = {'classify__estimator__colsample_bytree': 0.6522,\n",
    "          'classify__estimator__gamma': 3.6975,\n",
    "          'classify__estimator__learning_rate': 0.0503,\n",
    "          'classify__estimator__max_delta_step': 2.0706,\n",
    "          'classify__estimator__max_depth': 10,\n",
    "          'classify__estimator__min_child_weight': 31.5800,\n",
    "          'classify__estimator__n_estimators': 166,\n",
    "          'classify__estimator__subsample': 0.8639\n",
    "         }\n",
    "\n",
    "_ = clf.set_params(**params)"
   ]
  },
  {
   "cell_type": "code",
   "execution_count": 8,
   "metadata": {
    "execution": {
     "iopub.execute_input": "2020-11-30T14:20:27.883219Z",
     "iopub.status.busy": "2020-11-30T14:20:27.867677Z",
     "iopub.status.idle": "2020-11-30T14:25:30.818005Z",
     "shell.execute_reply": "2020-11-30T14:25:30.818886Z"
    },
    "papermill": {
     "duration": 302.97846,
     "end_time": "2020-11-30T14:25:30.819166",
     "exception": false,
     "start_time": "2020-11-30T14:20:27.840706",
     "status": "completed"
    },
    "tags": []
   },
   "outputs": [
    {
     "data": {
      "text/plain": [
       "Pipeline(steps=[('encode',\n",
       "                 CountEncoder(cols=[0, 2], combine_min_nan_groups=True)),\n",
       "                ('classify',\n",
       "                 MultiOutputClassifier(estimator=XGBClassifier(base_score=None,\n",
       "                                                               booster=None,\n",
       "                                                               colsample_bylevel=None,\n",
       "                                                               colsample_bynode=None,\n",
       "                                                               colsample_bytree=0.6522,\n",
       "                                                               gamma=3.6975,\n",
       "                                                               gpu_id=None,\n",
       "                                                               importance_type='gain',\n",
       "                                                               interaction_constraints=None,\n",
       "                                                               learning_rate=0.0503,\n",
       "                                                               max_delta_step=2.0706,\n",
       "                                                               max_depth=10,\n",
       "                                                               min_child_weight=31.58,\n",
       "                                                               missing=nan,\n",
       "                                                               monotone_constraints=None,\n",
       "                                                               n_estimators=166,\n",
       "                                                               n_jobs=None,\n",
       "                                                               num_parallel_tree=None,\n",
       "                                                               random_state=None,\n",
       "                                                               reg_alpha=None,\n",
       "                                                               reg_lambda=None,\n",
       "                                                               scale_pos_weight=None,\n",
       "                                                               subsample=0.8639,\n",
       "                                                               tree_method='gpu_hist',\n",
       "                                                               validate_parameters=None,\n",
       "                                                               verbosity=None)))])"
      ]
     },
     "execution_count": 8,
     "metadata": {},
     "output_type": "execute_result"
    }
   ],
   "source": [
    "clf.fit(X,y)"
   ]
  },
  {
   "cell_type": "code",
   "execution_count": 9,
   "metadata": {
    "execution": {
     "iopub.execute_input": "2020-11-30T14:25:30.890396Z",
     "iopub.status.busy": "2020-11-30T14:25:30.889320Z",
     "iopub.status.idle": "2020-11-30T14:25:32.661600Z",
     "shell.execute_reply": "2020-11-30T14:25:32.660997Z"
    },
    "papermill": {
     "duration": 1.814247,
     "end_time": "2020-11-30T14:25:32.661721",
     "exception": false,
     "start_time": "2020-11-30T14:25:30.847474",
     "status": "completed"
    },
    "tags": []
   },
   "outputs": [],
   "source": [
    "feat_impts = [] \n",
    "for model in clf[1].estimators_:\n",
    "    feat_impts.append(model.feature_importances_)"
   ]
  },
  {
   "cell_type": "code",
   "execution_count": 10,
   "metadata": {
    "execution": {
     "iopub.execute_input": "2020-11-30T14:25:32.775112Z",
     "iopub.status.busy": "2020-11-30T14:25:32.765403Z",
     "iopub.status.idle": "2020-11-30T14:25:32.931219Z",
     "shell.execute_reply": "2020-11-30T14:25:32.930658Z"
    },
    "papermill": {
     "duration": 0.250754,
     "end_time": "2020-11-30T14:25:32.931340",
     "exception": false,
     "start_time": "2020-11-30T14:25:32.680586",
     "status": "completed"
    },
    "tags": []
   },
   "outputs": [],
   "source": [
    "p_i = pd.DataFrame(feat_impts, columns = train.iloc[:,1:].columns).dropna(axis=0)"
   ]
  },
  {
   "cell_type": "code",
   "execution_count": 11,
   "metadata": {
    "execution": {
     "iopub.execute_input": "2020-11-30T14:25:32.980392Z",
     "iopub.status.busy": "2020-11-30T14:25:32.979211Z",
     "iopub.status.idle": "2020-11-30T14:25:32.984985Z",
     "shell.execute_reply": "2020-11-30T14:25:32.985522Z"
    },
    "papermill": {
     "duration": 0.034801,
     "end_time": "2020-11-30T14:25:32.985662",
     "exception": false,
     "start_time": "2020-11-30T14:25:32.950861",
     "status": "completed"
    },
    "tags": []
   },
   "outputs": [],
   "source": [
    "p_i_series = p_i.sum().sort_values(ascending = False)"
   ]
  },
  {
   "cell_type": "code",
   "execution_count": 12,
   "metadata": {
    "execution": {
     "iopub.execute_input": "2020-11-30T14:25:33.030729Z",
     "iopub.status.busy": "2020-11-30T14:25:33.030019Z",
     "iopub.status.idle": "2020-11-30T14:25:33.034511Z",
     "shell.execute_reply": "2020-11-30T14:25:33.033655Z"
    },
    "papermill": {
     "duration": 0.0289,
     "end_time": "2020-11-30T14:25:33.034644",
     "exception": false,
     "start_time": "2020-11-30T14:25:33.005744",
     "status": "completed"
    },
    "tags": []
   },
   "outputs": [],
   "source": [
    "f_i_list = list(p_i_series[p_i_series>0.2].index)"
   ]
  },
  {
   "cell_type": "code",
   "execution_count": 13,
   "metadata": {
    "execution": {
     "iopub.execute_input": "2020-11-30T14:25:33.100932Z",
     "iopub.status.busy": "2020-11-30T14:25:33.099870Z",
     "iopub.status.idle": "2020-11-30T14:25:33.102924Z",
     "shell.execute_reply": "2020-11-30T14:25:33.102331Z"
    },
    "papermill": {
     "duration": 0.048744,
     "end_time": "2020-11-30T14:25:33.103057",
     "exception": false,
     "start_time": "2020-11-30T14:25:33.054313",
     "status": "completed"
    },
    "tags": []
   },
   "outputs": [],
   "source": [
    "train_ = train[f_i_list]\n",
    "test_ = test[f_i_list]"
   ]
  },
  {
   "cell_type": "code",
   "execution_count": 14,
   "metadata": {
    "execution": {
     "iopub.execute_input": "2020-11-30T14:25:33.823547Z",
     "iopub.status.busy": "2020-11-30T14:25:33.822634Z",
     "iopub.status.idle": "2020-11-30T14:25:33.826791Z",
     "shell.execute_reply": "2020-11-30T14:25:33.826210Z"
    },
    "papermill": {
     "duration": 0.704144,
     "end_time": "2020-11-30T14:25:33.826917",
     "exception": false,
     "start_time": "2020-11-30T14:25:33.122773",
     "status": "completed"
    },
    "tags": []
   },
   "outputs": [],
   "source": [
    "X = train_.iloc[:,:].to_numpy()\n",
    "X_test = test_.iloc[:,:].to_numpy()\n",
    "y = targets.iloc[:,1:].to_numpy() "
   ]
  },
  {
   "cell_type": "code",
   "execution_count": 15,
   "metadata": {
    "execution": {
     "iopub.execute_input": "2020-11-30T14:25:33.878669Z",
     "iopub.status.busy": "2020-11-30T14:25:33.877667Z",
     "iopub.status.idle": "2020-11-30T14:25:33.881208Z",
     "shell.execute_reply": "2020-11-30T14:25:33.880653Z"
    },
    "papermill": {
     "duration": 0.032689,
     "end_time": "2020-11-30T14:25:33.881327",
     "exception": false,
     "start_time": "2020-11-30T14:25:33.848638",
     "status": "completed"
    },
    "tags": []
   },
   "outputs": [],
   "source": [
    "classifier = MultiOutputClassifier(XGBClassifier(tree_method='gpu_hist'))\n",
    "\n",
    "clf = Pipeline([('encode', CountEncoder(cols=[0, 2])),\n",
    "                ('classify', classifier)\n",
    "               ])\n",
    "params = {'classify__estimator__colsample_bytree': 0.6522,\n",
    "          'classify__estimator__gamma': 3.6975,\n",
    "          'classify__estimator__learning_rate': 0.0503,\n",
    "          'classify__estimator__max_delta_step': 2.0706,\n",
    "          'classify__estimator__max_depth': 10,\n",
    "          'classify__estimator__min_child_weight': 31.5800,\n",
    "          'classify__estimator__n_estimators': 166,\n",
    "          'classify__estimator__subsample': 0.8639\n",
    "         }\n",
    "\n",
    "_ = clf.set_params(**params)"
   ]
  },
  {
   "cell_type": "code",
   "execution_count": 16,
   "metadata": {
    "execution": {
     "iopub.execute_input": "2020-11-30T14:25:33.937186Z",
     "iopub.status.busy": "2020-11-30T14:25:33.935409Z",
     "iopub.status.idle": "2020-11-30T14:31:00.697283Z",
     "shell.execute_reply": "2020-11-30T14:31:00.698217Z"
    },
    "papermill": {
     "duration": 326.797017,
     "end_time": "2020-11-30T14:31:00.698465",
     "exception": false,
     "start_time": "2020-11-30T14:25:33.901448",
     "status": "completed"
    },
    "tags": []
   },
   "outputs": [
    {
     "name": "stdout",
     "output_type": "stream",
     "text": [
      "Starting fold:  0\n",
      "Starting fold:  1\n",
      "Starting fold:  2\n",
      "[0.01716368171745127, 0.01735805689446385, 0.01736508745448572]\n",
      "Mean OOF loss across folds 0.01729560868880028\n",
      "STD OOF loss across folds 9.333060062861643e-05\n"
     ]
    }
   ],
   "source": [
    "oof_preds = np.zeros(y.shape)\n",
    "test_preds = np.zeros((test.shape[0], y.shape[1]))\n",
    "oof_losses = []\n",
    "kf = KFold(n_splits=3)\n",
    "for fn, (trn_idx, val_idx) in enumerate(kf.split(X, y)):\n",
    "    print('Starting fold: ', fn)\n",
    "    X_train, X_val = X[trn_idx], X[val_idx]\n",
    "    y_train, y_val = y[trn_idx], y[val_idx]\n",
    "    \n",
    "    # drop where cp_type==ctl_vehicle (baseline)\n",
    "    #ctl_mask = X_train[:,0]=='ctl_vehicle'\n",
    "    #X_train = X_train[~ctl_mask,:]\n",
    "    #y_train = y_train[~ctl_mask]\n",
    "    #print(len(X_train))\n",
    "    #print(len(y_train))\n",
    "    clf.fit(X_train, y_train)\n",
    "    val_preds = clf.predict_proba(X_val) # list of preds per class\n",
    "    val_preds = np.array(val_preds)[:,:,1].T # take the positive class\n",
    "    oof_preds[val_idx] = val_preds\n",
    "    \n",
    "    loss = log_loss(np.ravel(y_val), np.ravel(val_preds))\n",
    "    oof_losses.append(loss)\n",
    "    preds = clf.predict_proba(X_test)\n",
    "    preds = np.array(preds)[:,:,1].T # take the positive class\n",
    "    test_preds += preds / 3\n",
    "    \n",
    "print(oof_losses)\n",
    "print('Mean OOF loss across folds', np.mean(oof_losses))\n",
    "print('STD OOF loss across folds', np.std(oof_losses))"
   ]
  },
  {
   "cell_type": "code",
   "execution_count": 17,
   "metadata": {
    "execution": {
     "iopub.execute_input": "2020-11-30T14:31:00.761928Z",
     "iopub.status.busy": "2020-11-30T14:31:00.760503Z",
     "iopub.status.idle": "2020-11-30T14:31:00.765207Z",
     "shell.execute_reply": "2020-11-30T14:31:00.766201Z"
    },
    "papermill": {
     "duration": 0.041591,
     "end_time": "2020-11-30T14:31:00.766356",
     "exception": false,
     "start_time": "2020-11-30T14:31:00.724765",
     "status": "completed"
    },
    "tags": []
   },
   "outputs": [],
   "source": [
    "control_mask = train['cp_type']=='ctl_vehicle'\n",
    "oof_preds[control_mask] = 0"
   ]
  },
  {
   "cell_type": "code",
   "execution_count": 18,
   "metadata": {
    "execution": {
     "iopub.execute_input": "2020-11-30T14:31:00.833851Z",
     "iopub.status.busy": "2020-11-30T14:31:00.833088Z",
     "iopub.status.idle": "2020-11-30T14:31:02.111006Z",
     "shell.execute_reply": "2020-11-30T14:31:02.111568Z"
    },
    "papermill": {
     "duration": 1.318739,
     "end_time": "2020-11-30T14:31:02.111705",
     "exception": false,
     "start_time": "2020-11-30T14:31:00.792966",
     "status": "completed"
    },
    "tags": []
   },
   "outputs": [
    {
     "name": "stdout",
     "output_type": "stream",
     "text": [
      "OOF log loss:  0.017035128400636076\n"
     ]
    }
   ],
   "source": [
    "print('OOF log loss: ', log_loss(np.ravel(y), np.ravel(oof_preds)))"
   ]
  },
  {
   "cell_type": "code",
   "execution_count": 19,
   "metadata": {
    "execution": {
     "iopub.execute_input": "2020-11-30T14:31:02.169226Z",
     "iopub.status.busy": "2020-11-30T14:31:02.168370Z",
     "iopub.status.idle": "2020-11-30T14:31:02.172557Z",
     "shell.execute_reply": "2020-11-30T14:31:02.173119Z"
    },
    "papermill": {
     "duration": 0.039292,
     "end_time": "2020-11-30T14:31:02.173261",
     "exception": false,
     "start_time": "2020-11-30T14:31:02.133969",
     "status": "completed"
    },
    "tags": []
   },
   "outputs": [
    {
     "data": {
      "text/plain": [
       "0       False\n",
       "1       False\n",
       "2        True\n",
       "3       False\n",
       "4       False\n",
       "        ...  \n",
       "3977    False\n",
       "3978    False\n",
       "3979    False\n",
       "3980    False\n",
       "3981    False\n",
       "Name: cp_type, Length: 3982, dtype: bool"
      ]
     },
     "execution_count": 19,
     "metadata": {},
     "output_type": "execute_result"
    }
   ],
   "source": [
    "# set control test preds to 0\n",
    "control_mask = test['cp_type']=='ctl_vehicle'\n",
    "control_mask"
   ]
  },
  {
   "cell_type": "code",
   "execution_count": 20,
   "metadata": {
    "execution": {
     "iopub.execute_input": "2020-11-30T14:31:02.224158Z",
     "iopub.status.busy": "2020-11-30T14:31:02.223470Z",
     "iopub.status.idle": "2020-11-30T14:31:02.228666Z",
     "shell.execute_reply": "2020-11-30T14:31:02.228099Z"
    },
    "papermill": {
     "duration": 0.031707,
     "end_time": "2020-11-30T14:31:02.228786",
     "exception": false,
     "start_time": "2020-11-30T14:31:02.197079",
     "status": "completed"
    },
    "tags": []
   },
   "outputs": [],
   "source": [
    "test_preds[control_mask] = 0"
   ]
  },
  {
   "cell_type": "code",
   "execution_count": 21,
   "metadata": {
    "execution": {
     "iopub.execute_input": "2020-11-30T14:31:02.282195Z",
     "iopub.status.busy": "2020-11-30T14:31:02.281254Z",
     "iopub.status.idle": "2020-11-30T14:31:05.021638Z",
     "shell.execute_reply": "2020-11-30T14:31:05.020943Z"
    },
    "papermill": {
     "duration": 2.769448,
     "end_time": "2020-11-30T14:31:05.021771",
     "exception": false,
     "start_time": "2020-11-30T14:31:02.252323",
     "status": "completed"
    },
    "tags": []
   },
   "outputs": [],
   "source": [
    "# create the submission file\n",
    "sub.iloc[:,1:] = test_preds\n",
    "sub.to_csv('submission.csv', index=False)"
   ]
  },
  {
   "cell_type": "code",
   "execution_count": null,
   "metadata": {
    "papermill": {
     "duration": 0.023516,
     "end_time": "2020-11-30T14:31:05.069383",
     "exception": false,
     "start_time": "2020-11-30T14:31:05.045867",
     "status": "completed"
    },
    "tags": []
   },
   "outputs": [],
   "source": []
  }
 ],
 "metadata": {
  "kernelspec": {
   "display_name": "Python 3",
   "language": "python",
   "name": "python3"
  },
  "language_info": {
   "codemirror_mode": {
    "name": "ipython",
    "version": 3
   },
   "file_extension": ".py",
   "mimetype": "text/x-python",
   "name": "python",
   "nbconvert_exporter": "python",
   "pygments_lexer": "ipython3",
   "version": "3.7.6"
  },
  "papermill": {
   "duration": 656.933722,
   "end_time": "2020-11-30T14:31:05.502865",
   "environment_variables": {},
   "exception": null,
   "input_path": "__notebook__.ipynb",
   "output_path": "__notebook__.ipynb",
   "parameters": {},
   "start_time": "2020-11-30T14:20:08.569143",
   "version": "2.1.0"
  }
 },
 "nbformat": 4,
 "nbformat_minor": 4
}
